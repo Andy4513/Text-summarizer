{
 "cells": [
  {
   "cell_type": "markdown",
   "id": "ed7dc4db",
   "metadata": {},
   "source": [
    "# Summary scores and comparasion"
   ]
  },
  {
   "cell_type": "code",
   "execution_count": 1,
   "id": "ad23e496",
   "metadata": {},
   "outputs": [],
   "source": [
    "import pandas as pd\n",
    "from rouge_score import rouge_scorer\n",
    "import matplotlib.pyplot as plt\n",
    "import seaborn as sns\n",
    "from scipy.stats import mannwhitneyu"
   ]
  },
  {
   "cell_type": "code",
   "execution_count": 2,
   "id": "3136bff8",
   "metadata": {},
   "outputs": [
    {
     "data": {
      "text/html": [
       "<div>\n",
       "<style scoped>\n",
       "    .dataframe tbody tr th:only-of-type {\n",
       "        vertical-align: middle;\n",
       "    }\n",
       "\n",
       "    .dataframe tbody tr th {\n",
       "        vertical-align: top;\n",
       "    }\n",
       "\n",
       "    .dataframe thead th {\n",
       "        text-align: right;\n",
       "    }\n",
       "</style>\n",
       "<table border=\"1\" class=\"dataframe\">\n",
       "  <thead>\n",
       "    <tr style=\"text-align: right;\">\n",
       "      <th></th>\n",
       "      <th>category</th>\n",
       "      <th>url</th>\n",
       "      <th>title</th>\n",
       "      <th>summary</th>\n",
       "      <th>full_text</th>\n",
       "      <th>extracted_summary</th>\n",
       "      <th>pegasus_summary</th>\n",
       "    </tr>\n",
       "  </thead>\n",
       "  <tbody>\n",
       "    <tr>\n",
       "      <th>0</th>\n",
       "      <td>Culture</td>\n",
       "      <td>/britney-spears-calls-dad-bastd-kiss-gdamn-174...</td>\n",
       "      <td>Britney Spears Calls Dad a 'Bast**d,' Tells Hi...</td>\n",
       "      <td>Fans expressed support and worry about the pop...</td>\n",
       "      <td>Fans of Britney Spears have long watched her e...</td>\n",
       "      <td>\"Comments from followers on Sunday night's pos...</td>\n",
       "      <td>Pop star Britney Spears has posted an angry In...</td>\n",
       "    </tr>\n",
       "    <tr>\n",
       "      <th>1</th>\n",
       "      <td>Culture</td>\n",
       "      <td>/sister-wives-season-17-new-kody-brown-christi...</td>\n",
       "      <td>'Sister Wives' Season 17: Why Did Christine an...</td>\n",
       "      <td>Season 17 of \"Sister Wives\" is set to follow t...</td>\n",
       "      <td>Kody Brown's split from Christine is set to be...</td>\n",
       "      <td>ET. \"Sister Wives is set to return to TLC for ...</td>\n",
       "      <td>One of the stars of US reality TV show Sister ...</td>\n",
       "    </tr>\n",
       "    <tr>\n",
       "      <th>2</th>\n",
       "      <td>Culture</td>\n",
       "      <td>/house-dragon-emily-carey-interview-scared-sex...</td>\n",
       "      <td>Emily Carey Talks Being 'Scared' of 'House of ...</td>\n",
       "      <td>\"House of the Dragon\" star Emily Carey spoke t...</td>\n",
       "      <td>Emily Carey was \"scared\" of doing sex scenes i...</td>\n",
       "      <td>ET. \"I've never seen Game of Thrones before, a...</td>\n",
       "      <td>One of the stars of the new Game of Thrones sp...</td>\n",
       "    </tr>\n",
       "    <tr>\n",
       "      <th>3</th>\n",
       "      <td>World</td>\n",
       "      <td>/cold-hunger-darkness-ukraine-not-terrible-rus...</td>\n",
       "      <td>Cold, Hunger and Darkness in Ukraine 'Not as T...</td>\n",
       "      <td>Zelensky said Sunday's \"terrorist acts\" were d...</td>\n",
       "      <td>Ukraine President Volodymyr Zelensky addressed...</td>\n",
       "      <td>That includes Ukrainian civilians, foreign fig...</td>\n",
       "      <td>Ukraine's president has accused Russia of \"del...</td>\n",
       "    </tr>\n",
       "    <tr>\n",
       "      <th>4</th>\n",
       "      <td>Culture</td>\n",
       "      <td>/american-gigolo-based-true-story-jon-bernthal...</td>\n",
       "      <td>Is 'American Gigolo' Based on a True Story?</td>\n",
       "      <td>\"American Gigolo\" sees Jon Bernthal play male ...</td>\n",
       "      <td>Showtime's new series, American Gigolo, sees J...</td>\n",
       "      <td>ET. \"American Gigolo premieres Sunday, Septemb...</td>\n",
       "      <td>A new TV series about a man who is wrongly acc...</td>\n",
       "    </tr>\n",
       "  </tbody>\n",
       "</table>\n",
       "</div>"
      ],
      "text/plain": [
       "  category                                                url  \\\n",
       "0  Culture  /britney-spears-calls-dad-bastd-kiss-gdamn-174...   \n",
       "1  Culture  /sister-wives-season-17-new-kody-brown-christi...   \n",
       "2  Culture  /house-dragon-emily-carey-interview-scared-sex...   \n",
       "3    World  /cold-hunger-darkness-ukraine-not-terrible-rus...   \n",
       "4  Culture  /american-gigolo-based-true-story-jon-bernthal...   \n",
       "\n",
       "                                               title  \\\n",
       "0  Britney Spears Calls Dad a 'Bast**d,' Tells Hi...   \n",
       "1  'Sister Wives' Season 17: Why Did Christine an...   \n",
       "2  Emily Carey Talks Being 'Scared' of 'House of ...   \n",
       "3  Cold, Hunger and Darkness in Ukraine 'Not as T...   \n",
       "4        Is 'American Gigolo' Based on a True Story?   \n",
       "\n",
       "                                             summary  \\\n",
       "0  Fans expressed support and worry about the pop...   \n",
       "1  Season 17 of \"Sister Wives\" is set to follow t...   \n",
       "2  \"House of the Dragon\" star Emily Carey spoke t...   \n",
       "3  Zelensky said Sunday's \"terrorist acts\" were d...   \n",
       "4  \"American Gigolo\" sees Jon Bernthal play male ...   \n",
       "\n",
       "                                           full_text  \\\n",
       "0  Fans of Britney Spears have long watched her e...   \n",
       "1  Kody Brown's split from Christine is set to be...   \n",
       "2  Emily Carey was \"scared\" of doing sex scenes i...   \n",
       "3  Ukraine President Volodymyr Zelensky addressed...   \n",
       "4  Showtime's new series, American Gigolo, sees J...   \n",
       "\n",
       "                                   extracted_summary  \\\n",
       "0  \"Comments from followers on Sunday night's pos...   \n",
       "1  ET. \"Sister Wives is set to return to TLC for ...   \n",
       "2  ET. \"I've never seen Game of Thrones before, a...   \n",
       "3  That includes Ukrainian civilians, foreign fig...   \n",
       "4  ET. \"American Gigolo premieres Sunday, Septemb...   \n",
       "\n",
       "                                     pegasus_summary  \n",
       "0  Pop star Britney Spears has posted an angry In...  \n",
       "1  One of the stars of US reality TV show Sister ...  \n",
       "2  One of the stars of the new Game of Thrones sp...  \n",
       "3  Ukraine's president has accused Russia of \"del...  \n",
       "4  A new TV series about a man who is wrongly acc...  "
      ]
     },
     "execution_count": 2,
     "metadata": {},
     "output_type": "execute_result"
    }
   ],
   "source": [
    "df = pd.read_csv('news_with_pegasus_summary', index_col=0)\n",
    "df.head()"
   ]
  },
  {
   "cell_type": "code",
   "execution_count": 3,
   "id": "cdadf77e",
   "metadata": {},
   "outputs": [
    {
     "data": {
      "text/plain": [
       "{'rouge1': Score(precision=1.0, recall=0.025295109612141653, fmeasure=0.049342105263157895),\n",
       " 'rougeL': Score(precision=0.8, recall=0.02023608768971332, fmeasure=0.039473684210526314)}"
      ]
     },
     "execution_count": 3,
     "metadata": {},
     "output_type": "execute_result"
    }
   ],
   "source": [
    "scorer = rouge_scorer.RougeScorer(['rouge1', 'rougeL'], use_stemmer=True)\n",
    "scores = scorer.score(str(df['full_text'].iloc[0]), str(df['pegasus_summary'].iloc[0]))\n",
    "scores"
   ]
  },
  {
   "cell_type": "code",
   "execution_count": 4,
   "id": "51eb6f20",
   "metadata": {},
   "outputs": [
    {
     "data": {
      "text/plain": [
       "{'rouge1': Score(precision=1.0, recall=0.025295109612141653, fmeasure=0.049342105263157895),\n",
       " 'rouge2': Score(precision=0.42857142857142855, recall=0.010135135135135136, fmeasure=0.019801980198019802),\n",
       " 'rougeL': Score(precision=0.8, recall=0.02023608768971332, fmeasure=0.039473684210526314)}"
      ]
     },
     "execution_count": 4,
     "metadata": {},
     "output_type": "execute_result"
    }
   ],
   "source": [
    "scorer = rouge_scorer.RougeScorer(['rouge1', 'rouge2', 'rougeL'], use_stemmer=True)\n",
    "scores = scorer.score(str(df['full_text'].iloc[0]), str(df['pegasus_summary'].iloc[0]))\n",
    "scores"
   ]
  },
  {
   "cell_type": "code",
   "execution_count": 5,
   "id": "36ae9c77",
   "metadata": {},
   "outputs": [],
   "source": [
    "def get_rouge_scores(df, col1, col2):\n",
    "    rouge1, rouge2, rougeL = [], [], []\n",
    "    scorer = rouge_scorer.RougeScorer(['rouge1', 'rouge2', 'rougeL'], use_stemmer=True)\n",
    "    for i in range(len(df)):\n",
    "        scores = scorer.score(str(df[col1].iloc[i]), str(df[col2].iloc[i]))\n",
    "        rouge1.append(scores['rouge1'].fmeasure)\n",
    "        rouge2.append(scores['rouge2'].fmeasure)\n",
    "        rougeL.append(scores['rougeL'].fmeasure)\n",
    "    return rouge1, rouge2, rougeL"
   ]
  },
  {
   "cell_type": "code",
   "execution_count": 6,
   "id": "cbe7cd09",
   "metadata": {},
   "outputs": [],
   "source": [
    "rouge1, rouge2, rougeL = get_rouge_scores(df, 'summary', 'extracted_summary')"
   ]
  },
  {
   "cell_type": "code",
   "execution_count": 7,
   "id": "fab08def",
   "metadata": {
    "scrolled": true
   },
   "outputs": [
    {
     "data": {
      "text/html": [
       "<div>\n",
       "<style scoped>\n",
       "    .dataframe tbody tr th:only-of-type {\n",
       "        vertical-align: middle;\n",
       "    }\n",
       "\n",
       "    .dataframe tbody tr th {\n",
       "        vertical-align: top;\n",
       "    }\n",
       "\n",
       "    .dataframe thead th {\n",
       "        text-align: right;\n",
       "    }\n",
       "</style>\n",
       "<table border=\"1\" class=\"dataframe\">\n",
       "  <thead>\n",
       "    <tr style=\"text-align: right;\">\n",
       "      <th></th>\n",
       "      <th>category</th>\n",
       "      <th>url</th>\n",
       "      <th>title</th>\n",
       "      <th>summary</th>\n",
       "      <th>full_text</th>\n",
       "      <th>extracted_summary</th>\n",
       "      <th>pegasus_summary</th>\n",
       "      <th>extract_rouge_1</th>\n",
       "      <th>extract_rouge_2</th>\n",
       "      <th>extract_rouge_L</th>\n",
       "    </tr>\n",
       "  </thead>\n",
       "  <tbody>\n",
       "    <tr>\n",
       "      <th>0</th>\n",
       "      <td>Culture</td>\n",
       "      <td>/britney-spears-calls-dad-bastd-kiss-gdamn-174...</td>\n",
       "      <td>Britney Spears Calls Dad a 'Bast**d,' Tells Hi...</td>\n",
       "      <td>Fans expressed support and worry about the pop...</td>\n",
       "      <td>Fans of Britney Spears have long watched her e...</td>\n",
       "      <td>\"Comments from followers on Sunday night's pos...</td>\n",
       "      <td>Pop star Britney Spears has posted an angry In...</td>\n",
       "      <td>0.133333</td>\n",
       "      <td>0.022472</td>\n",
       "      <td>0.066667</td>\n",
       "    </tr>\n",
       "    <tr>\n",
       "      <th>1</th>\n",
       "      <td>Culture</td>\n",
       "      <td>/sister-wives-season-17-new-kody-brown-christi...</td>\n",
       "      <td>'Sister Wives' Season 17: Why Did Christine an...</td>\n",
       "      <td>Season 17 of \"Sister Wives\" is set to follow t...</td>\n",
       "      <td>Kody Brown's split from Christine is set to be...</td>\n",
       "      <td>ET. \"Sister Wives is set to return to TLC for ...</td>\n",
       "      <td>One of the stars of US reality TV show Sister ...</td>\n",
       "      <td>0.311111</td>\n",
       "      <td>0.232558</td>\n",
       "      <td>0.222222</td>\n",
       "    </tr>\n",
       "    <tr>\n",
       "      <th>2</th>\n",
       "      <td>Culture</td>\n",
       "      <td>/house-dragon-emily-carey-interview-scared-sex...</td>\n",
       "      <td>Emily Carey Talks Being 'Scared' of 'House of ...</td>\n",
       "      <td>\"House of the Dragon\" star Emily Carey spoke t...</td>\n",
       "      <td>Emily Carey was \"scared\" of doing sex scenes i...</td>\n",
       "      <td>ET. \"I've never seen Game of Thrones before, a...</td>\n",
       "      <td>One of the stars of the new Game of Thrones sp...</td>\n",
       "      <td>0.166667</td>\n",
       "      <td>0.000000</td>\n",
       "      <td>0.138889</td>\n",
       "    </tr>\n",
       "    <tr>\n",
       "      <th>3</th>\n",
       "      <td>World</td>\n",
       "      <td>/cold-hunger-darkness-ukraine-not-terrible-rus...</td>\n",
       "      <td>Cold, Hunger and Darkness in Ukraine 'Not as T...</td>\n",
       "      <td>Zelensky said Sunday's \"terrorist acts\" were d...</td>\n",
       "      <td>Ukraine President Volodymyr Zelensky addressed...</td>\n",
       "      <td>That includes Ukrainian civilians, foreign fig...</td>\n",
       "      <td>Ukraine's president has accused Russia of \"del...</td>\n",
       "      <td>0.000000</td>\n",
       "      <td>0.000000</td>\n",
       "      <td>0.000000</td>\n",
       "    </tr>\n",
       "    <tr>\n",
       "      <th>4</th>\n",
       "      <td>Culture</td>\n",
       "      <td>/american-gigolo-based-true-story-jon-bernthal...</td>\n",
       "      <td>Is 'American Gigolo' Based on a True Story?</td>\n",
       "      <td>\"American Gigolo\" sees Jon Bernthal play male ...</td>\n",
       "      <td>Showtime's new series, American Gigolo, sees J...</td>\n",
       "      <td>ET. \"American Gigolo premieres Sunday, Septemb...</td>\n",
       "      <td>A new TV series about a man who is wrongly acc...</td>\n",
       "      <td>0.114286</td>\n",
       "      <td>0.060606</td>\n",
       "      <td>0.114286</td>\n",
       "    </tr>\n",
       "  </tbody>\n",
       "</table>\n",
       "</div>"
      ],
      "text/plain": [
       "  category                                                url  \\\n",
       "0  Culture  /britney-spears-calls-dad-bastd-kiss-gdamn-174...   \n",
       "1  Culture  /sister-wives-season-17-new-kody-brown-christi...   \n",
       "2  Culture  /house-dragon-emily-carey-interview-scared-sex...   \n",
       "3    World  /cold-hunger-darkness-ukraine-not-terrible-rus...   \n",
       "4  Culture  /american-gigolo-based-true-story-jon-bernthal...   \n",
       "\n",
       "                                               title  \\\n",
       "0  Britney Spears Calls Dad a 'Bast**d,' Tells Hi...   \n",
       "1  'Sister Wives' Season 17: Why Did Christine an...   \n",
       "2  Emily Carey Talks Being 'Scared' of 'House of ...   \n",
       "3  Cold, Hunger and Darkness in Ukraine 'Not as T...   \n",
       "4        Is 'American Gigolo' Based on a True Story?   \n",
       "\n",
       "                                             summary  \\\n",
       "0  Fans expressed support and worry about the pop...   \n",
       "1  Season 17 of \"Sister Wives\" is set to follow t...   \n",
       "2  \"House of the Dragon\" star Emily Carey spoke t...   \n",
       "3  Zelensky said Sunday's \"terrorist acts\" were d...   \n",
       "4  \"American Gigolo\" sees Jon Bernthal play male ...   \n",
       "\n",
       "                                           full_text  \\\n",
       "0  Fans of Britney Spears have long watched her e...   \n",
       "1  Kody Brown's split from Christine is set to be...   \n",
       "2  Emily Carey was \"scared\" of doing sex scenes i...   \n",
       "3  Ukraine President Volodymyr Zelensky addressed...   \n",
       "4  Showtime's new series, American Gigolo, sees J...   \n",
       "\n",
       "                                   extracted_summary  \\\n",
       "0  \"Comments from followers on Sunday night's pos...   \n",
       "1  ET. \"Sister Wives is set to return to TLC for ...   \n",
       "2  ET. \"I've never seen Game of Thrones before, a...   \n",
       "3  That includes Ukrainian civilians, foreign fig...   \n",
       "4  ET. \"American Gigolo premieres Sunday, Septemb...   \n",
       "\n",
       "                                     pegasus_summary  extract_rouge_1  \\\n",
       "0  Pop star Britney Spears has posted an angry In...         0.133333   \n",
       "1  One of the stars of US reality TV show Sister ...         0.311111   \n",
       "2  One of the stars of the new Game of Thrones sp...         0.166667   \n",
       "3  Ukraine's president has accused Russia of \"del...         0.000000   \n",
       "4  A new TV series about a man who is wrongly acc...         0.114286   \n",
       "\n",
       "   extract_rouge_2  extract_rouge_L  \n",
       "0         0.022472         0.066667  \n",
       "1         0.232558         0.222222  \n",
       "2         0.000000         0.138889  \n",
       "3         0.000000         0.000000  \n",
       "4         0.060606         0.114286  "
      ]
     },
     "execution_count": 7,
     "metadata": {},
     "output_type": "execute_result"
    }
   ],
   "source": [
    "df['extract_rouge_1'] = rouge1\n",
    "df['extract_rouge_2'] = rouge2\n",
    "df['extract_rouge_L'] = rougeL\n",
    "df.head()"
   ]
  },
  {
   "cell_type": "code",
   "execution_count": 8,
   "id": "16342fd0",
   "metadata": {},
   "outputs": [],
   "source": [
    "rouge1, rouge2, rougeL = get_rouge_scores(df, 'summary', 'pegasus_summary')"
   ]
  },
  {
   "cell_type": "code",
   "execution_count": 9,
   "id": "49ecc0ef",
   "metadata": {
    "scrolled": true
   },
   "outputs": [
    {
     "data": {
      "text/html": [
       "<div>\n",
       "<style scoped>\n",
       "    .dataframe tbody tr th:only-of-type {\n",
       "        vertical-align: middle;\n",
       "    }\n",
       "\n",
       "    .dataframe tbody tr th {\n",
       "        vertical-align: top;\n",
       "    }\n",
       "\n",
       "    .dataframe thead th {\n",
       "        text-align: right;\n",
       "    }\n",
       "</style>\n",
       "<table border=\"1\" class=\"dataframe\">\n",
       "  <thead>\n",
       "    <tr style=\"text-align: right;\">\n",
       "      <th></th>\n",
       "      <th>category</th>\n",
       "      <th>url</th>\n",
       "      <th>title</th>\n",
       "      <th>summary</th>\n",
       "      <th>full_text</th>\n",
       "      <th>extracted_summary</th>\n",
       "      <th>pegasus_summary</th>\n",
       "      <th>extract_rouge_1</th>\n",
       "      <th>extract_rouge_2</th>\n",
       "      <th>extract_rouge_L</th>\n",
       "      <th>pegasus_rouge_1</th>\n",
       "      <th>pegasus_rouge_2</th>\n",
       "      <th>pegasus_rouge_L</th>\n",
       "    </tr>\n",
       "  </thead>\n",
       "  <tbody>\n",
       "    <tr>\n",
       "      <th>0</th>\n",
       "      <td>Culture</td>\n",
       "      <td>/britney-spears-calls-dad-bastd-kiss-gdamn-174...</td>\n",
       "      <td>Britney Spears Calls Dad a 'Bast**d,' Tells Hi...</td>\n",
       "      <td>Fans expressed support and worry about the pop...</td>\n",
       "      <td>Fans of Britney Spears have long watched her e...</td>\n",
       "      <td>\"Comments from followers on Sunday night's pos...</td>\n",
       "      <td>Pop star Britney Spears has posted an angry In...</td>\n",
       "      <td>0.133333</td>\n",
       "      <td>0.022472</td>\n",
       "      <td>0.066667</td>\n",
       "      <td>0.390244</td>\n",
       "      <td>0.102564</td>\n",
       "      <td>0.341463</td>\n",
       "    </tr>\n",
       "    <tr>\n",
       "      <th>1</th>\n",
       "      <td>Culture</td>\n",
       "      <td>/sister-wives-season-17-new-kody-brown-christi...</td>\n",
       "      <td>'Sister Wives' Season 17: Why Did Christine an...</td>\n",
       "      <td>Season 17 of \"Sister Wives\" is set to follow t...</td>\n",
       "      <td>Kody Brown's split from Christine is set to be...</td>\n",
       "      <td>ET. \"Sister Wives is set to return to TLC for ...</td>\n",
       "      <td>One of the stars of US reality TV show Sister ...</td>\n",
       "      <td>0.311111</td>\n",
       "      <td>0.232558</td>\n",
       "      <td>0.222222</td>\n",
       "      <td>0.318182</td>\n",
       "      <td>0.095238</td>\n",
       "      <td>0.227273</td>\n",
       "    </tr>\n",
       "    <tr>\n",
       "      <th>2</th>\n",
       "      <td>Culture</td>\n",
       "      <td>/house-dragon-emily-carey-interview-scared-sex...</td>\n",
       "      <td>Emily Carey Talks Being 'Scared' of 'House of ...</td>\n",
       "      <td>\"House of the Dragon\" star Emily Carey spoke t...</td>\n",
       "      <td>Emily Carey was \"scared\" of doing sex scenes i...</td>\n",
       "      <td>ET. \"I've never seen Game of Thrones before, a...</td>\n",
       "      <td>One of the stars of the new Game of Thrones sp...</td>\n",
       "      <td>0.166667</td>\n",
       "      <td>0.000000</td>\n",
       "      <td>0.138889</td>\n",
       "      <td>0.285714</td>\n",
       "      <td>0.127660</td>\n",
       "      <td>0.285714</td>\n",
       "    </tr>\n",
       "    <tr>\n",
       "      <th>3</th>\n",
       "      <td>World</td>\n",
       "      <td>/cold-hunger-darkness-ukraine-not-terrible-rus...</td>\n",
       "      <td>Cold, Hunger and Darkness in Ukraine 'Not as T...</td>\n",
       "      <td>Zelensky said Sunday's \"terrorist acts\" were d...</td>\n",
       "      <td>Ukraine President Volodymyr Zelensky addressed...</td>\n",
       "      <td>That includes Ukrainian civilians, foreign fig...</td>\n",
       "      <td>Ukraine's president has accused Russia of \"del...</td>\n",
       "      <td>0.000000</td>\n",
       "      <td>0.000000</td>\n",
       "      <td>0.000000</td>\n",
       "      <td>0.222222</td>\n",
       "      <td>0.000000</td>\n",
       "      <td>0.222222</td>\n",
       "    </tr>\n",
       "    <tr>\n",
       "      <th>4</th>\n",
       "      <td>Culture</td>\n",
       "      <td>/american-gigolo-based-true-story-jon-bernthal...</td>\n",
       "      <td>Is 'American Gigolo' Based on a True Story?</td>\n",
       "      <td>\"American Gigolo\" sees Jon Bernthal play male ...</td>\n",
       "      <td>Showtime's new series, American Gigolo, sees J...</td>\n",
       "      <td>ET. \"American Gigolo premieres Sunday, Septemb...</td>\n",
       "      <td>A new TV series about a man who is wrongly acc...</td>\n",
       "      <td>0.114286</td>\n",
       "      <td>0.060606</td>\n",
       "      <td>0.114286</td>\n",
       "      <td>0.190476</td>\n",
       "      <td>0.100000</td>\n",
       "      <td>0.190476</td>\n",
       "    </tr>\n",
       "  </tbody>\n",
       "</table>\n",
       "</div>"
      ],
      "text/plain": [
       "  category                                                url  \\\n",
       "0  Culture  /britney-spears-calls-dad-bastd-kiss-gdamn-174...   \n",
       "1  Culture  /sister-wives-season-17-new-kody-brown-christi...   \n",
       "2  Culture  /house-dragon-emily-carey-interview-scared-sex...   \n",
       "3    World  /cold-hunger-darkness-ukraine-not-terrible-rus...   \n",
       "4  Culture  /american-gigolo-based-true-story-jon-bernthal...   \n",
       "\n",
       "                                               title  \\\n",
       "0  Britney Spears Calls Dad a 'Bast**d,' Tells Hi...   \n",
       "1  'Sister Wives' Season 17: Why Did Christine an...   \n",
       "2  Emily Carey Talks Being 'Scared' of 'House of ...   \n",
       "3  Cold, Hunger and Darkness in Ukraine 'Not as T...   \n",
       "4        Is 'American Gigolo' Based on a True Story?   \n",
       "\n",
       "                                             summary  \\\n",
       "0  Fans expressed support and worry about the pop...   \n",
       "1  Season 17 of \"Sister Wives\" is set to follow t...   \n",
       "2  \"House of the Dragon\" star Emily Carey spoke t...   \n",
       "3  Zelensky said Sunday's \"terrorist acts\" were d...   \n",
       "4  \"American Gigolo\" sees Jon Bernthal play male ...   \n",
       "\n",
       "                                           full_text  \\\n",
       "0  Fans of Britney Spears have long watched her e...   \n",
       "1  Kody Brown's split from Christine is set to be...   \n",
       "2  Emily Carey was \"scared\" of doing sex scenes i...   \n",
       "3  Ukraine President Volodymyr Zelensky addressed...   \n",
       "4  Showtime's new series, American Gigolo, sees J...   \n",
       "\n",
       "                                   extracted_summary  \\\n",
       "0  \"Comments from followers on Sunday night's pos...   \n",
       "1  ET. \"Sister Wives is set to return to TLC for ...   \n",
       "2  ET. \"I've never seen Game of Thrones before, a...   \n",
       "3  That includes Ukrainian civilians, foreign fig...   \n",
       "4  ET. \"American Gigolo premieres Sunday, Septemb...   \n",
       "\n",
       "                                     pegasus_summary  extract_rouge_1  \\\n",
       "0  Pop star Britney Spears has posted an angry In...         0.133333   \n",
       "1  One of the stars of US reality TV show Sister ...         0.311111   \n",
       "2  One of the stars of the new Game of Thrones sp...         0.166667   \n",
       "3  Ukraine's president has accused Russia of \"del...         0.000000   \n",
       "4  A new TV series about a man who is wrongly acc...         0.114286   \n",
       "\n",
       "   extract_rouge_2  extract_rouge_L  pegasus_rouge_1  pegasus_rouge_2  \\\n",
       "0         0.022472         0.066667         0.390244         0.102564   \n",
       "1         0.232558         0.222222         0.318182         0.095238   \n",
       "2         0.000000         0.138889         0.285714         0.127660   \n",
       "3         0.000000         0.000000         0.222222         0.000000   \n",
       "4         0.060606         0.114286         0.190476         0.100000   \n",
       "\n",
       "   pegasus_rouge_L  \n",
       "0         0.341463  \n",
       "1         0.227273  \n",
       "2         0.285714  \n",
       "3         0.222222  \n",
       "4         0.190476  "
      ]
     },
     "execution_count": 9,
     "metadata": {},
     "output_type": "execute_result"
    }
   ],
   "source": [
    "df['pegasus_rouge_1'] = rouge1\n",
    "df['pegasus_rouge_2'] = rouge2\n",
    "df['pegasus_rouge_L'] = rougeL\n",
    "df.head()"
   ]
  },
  {
   "cell_type": "markdown",
   "id": "ba6f293b",
   "metadata": {},
   "source": [
    "Sort the good summaries (those with a rouge score > 0.5)"
   ]
  },
  {
   "cell_type": "code",
   "execution_count": 10,
   "id": "b6147014",
   "metadata": {
    "scrolled": true
   },
   "outputs": [
    {
     "data": {
      "text/html": [
       "<div>\n",
       "<style scoped>\n",
       "    .dataframe tbody tr th:only-of-type {\n",
       "        vertical-align: middle;\n",
       "    }\n",
       "\n",
       "    .dataframe tbody tr th {\n",
       "        vertical-align: top;\n",
       "    }\n",
       "\n",
       "    .dataframe thead th {\n",
       "        text-align: right;\n",
       "    }\n",
       "</style>\n",
       "<table border=\"1\" class=\"dataframe\">\n",
       "  <thead>\n",
       "    <tr style=\"text-align: right;\">\n",
       "      <th></th>\n",
       "      <th>category</th>\n",
       "      <th>url</th>\n",
       "      <th>title</th>\n",
       "      <th>summary</th>\n",
       "      <th>full_text</th>\n",
       "      <th>extracted_summary</th>\n",
       "      <th>pegasus_summary</th>\n",
       "      <th>extract_rouge_1</th>\n",
       "      <th>extract_rouge_2</th>\n",
       "      <th>extract_rouge_L</th>\n",
       "      <th>pegasus_rouge_1</th>\n",
       "      <th>pegasus_rouge_2</th>\n",
       "      <th>pegasus_rouge_L</th>\n",
       "    </tr>\n",
       "  </thead>\n",
       "  <tbody>\n",
       "    <tr>\n",
       "      <th>48</th>\n",
       "      <td>World</td>\n",
       "      <td>/zelensky-says-harsh-winter-will-determine-fat...</td>\n",
       "      <td>Zelensky Says Harsh Winter Will Determine Fate...</td>\n",
       "      <td>\"We can make it so that after these 90 days th...</td>\n",
       "      <td>Russia began its war of aggression in Ukraine ...</td>\n",
       "      <td>Zelensky has vowed that Ukraine will take back...</td>\n",
       "      <td>Ukraine's president has called this winter the...</td>\n",
       "      <td>0.784314</td>\n",
       "      <td>0.693878</td>\n",
       "      <td>0.705882</td>\n",
       "      <td>0.054054</td>\n",
       "      <td>0.0</td>\n",
       "      <td>0.054054</td>\n",
       "    </tr>\n",
       "    <tr>\n",
       "      <th>89</th>\n",
       "      <td>News</td>\n",
       "      <td>/joshua-jones-american-killed-ukraine-war-russ...</td>\n",
       "      <td>American Killed in Ukraine Was Front-Line 'Tac...</td>\n",
       "      <td>\"Ukraine is better off for having him and wors...</td>\n",
       "      <td>Joshua Alan Jones, a 24-year-old Memphis nativ...</td>\n",
       "      <td>\"Ukraine is better off for having him and wors...</td>\n",
       "      <td>A Tennessee soldier who was killed while fight...</td>\n",
       "      <td>0.638298</td>\n",
       "      <td>0.622222</td>\n",
       "      <td>0.638298</td>\n",
       "      <td>0.125000</td>\n",
       "      <td>0.0</td>\n",
       "      <td>0.083333</td>\n",
       "    </tr>\n",
       "    <tr>\n",
       "      <th>510</th>\n",
       "      <td>News</td>\n",
       "      <td>/john-fetterman-agrees-debate-mehmet-oz-after-...</td>\n",
       "      <td>John Fetterman Agrees to Debate Mehmet Oz Afte...</td>\n",
       "      <td>\"This whole thing has been about Dr. Oz and hi...</td>\n",
       "      <td>John Fetterman, the Democratic candidate for P...</td>\n",
       "      <td>\"This whole thing has been about Dr. Oz and hi...</td>\n",
       "      <td>A Pennsylvania US Senate candidate has agreed ...</td>\n",
       "      <td>0.738462</td>\n",
       "      <td>0.698413</td>\n",
       "      <td>0.738462</td>\n",
       "      <td>0.085106</td>\n",
       "      <td>0.0</td>\n",
       "      <td>0.085106</td>\n",
       "    </tr>\n",
       "    <tr>\n",
       "      <th>727</th>\n",
       "      <td>U.S.</td>\n",
       "      <td>/hurricane-kay-path-tracker-california-mexico-...</td>\n",
       "      <td>Hurricane Kay Path, Tracker as California, Mex...</td>\n",
       "      <td>\"Kay is expected to produce rainfall totals of...</td>\n",
       "      <td>A tropical wave in the eastern Pacific Ocean i...</td>\n",
       "      <td>However, it'll likely stay at a Cat 1 or downg...</td>\n",
       "      <td>A tropical wave in the eastern Pacific Ocean i...</td>\n",
       "      <td>0.555556</td>\n",
       "      <td>0.514286</td>\n",
       "      <td>0.555556</td>\n",
       "      <td>0.093023</td>\n",
       "      <td>0.0</td>\n",
       "      <td>0.093023</td>\n",
       "    </tr>\n",
       "    <tr>\n",
       "      <th>731</th>\n",
       "      <td>Family &amp; Parenting</td>\n",
       "      <td>/woman-sending-family-portraits-ex-husbands-mo...</td>\n",
       "      <td>Woman Sending Family Portraits to Ex-Husband's...</td>\n",
       "      <td>\"Grandma needs to be in the next family portra...</td>\n",
       "      <td>Internet commenters commended one mother's gen...</td>\n",
       "      <td>\"Newsweek reached out to u/blatantlyridiculous...</td>\n",
       "      <td>All photographs subject to copyright.</td>\n",
       "      <td>0.689655</td>\n",
       "      <td>0.592593</td>\n",
       "      <td>0.620690</td>\n",
       "      <td>0.117647</td>\n",
       "      <td>0.0</td>\n",
       "      <td>0.117647</td>\n",
       "    </tr>\n",
       "    <tr>\n",
       "      <th>1336</th>\n",
       "      <td>Family &amp; Parenting</td>\n",
       "      <td>/woman-backed-refusing-care-disabled-sister-fo...</td>\n",
       "      <td>Woman Backed for Refusing to Care For Disabled...</td>\n",
       "      <td>\"It is not your responsibility to step in for ...</td>\n",
       "      <td>A woman has been backed online after refusing ...</td>\n",
       "      <td>[Not the a**hole].\" It is not your responsibil...</td>\n",
       "      <td>A woman has been backed online after refusing ...</td>\n",
       "      <td>0.775510</td>\n",
       "      <td>0.765957</td>\n",
       "      <td>0.775510</td>\n",
       "      <td>0.181818</td>\n",
       "      <td>0.0</td>\n",
       "      <td>0.136364</td>\n",
       "    </tr>\n",
       "  </tbody>\n",
       "</table>\n",
       "</div>"
      ],
      "text/plain": [
       "                category                                                url  \\\n",
       "48                 World  /zelensky-says-harsh-winter-will-determine-fat...   \n",
       "89                  News  /joshua-jones-american-killed-ukraine-war-russ...   \n",
       "510                 News  /john-fetterman-agrees-debate-mehmet-oz-after-...   \n",
       "727                 U.S.  /hurricane-kay-path-tracker-california-mexico-...   \n",
       "731   Family & Parenting  /woman-sending-family-portraits-ex-husbands-mo...   \n",
       "1336  Family & Parenting  /woman-backed-refusing-care-disabled-sister-fo...   \n",
       "\n",
       "                                                  title  \\\n",
       "48    Zelensky Says Harsh Winter Will Determine Fate...   \n",
       "89    American Killed in Ukraine Was Front-Line 'Tac...   \n",
       "510   John Fetterman Agrees to Debate Mehmet Oz Afte...   \n",
       "727   Hurricane Kay Path, Tracker as California, Mex...   \n",
       "731   Woman Sending Family Portraits to Ex-Husband's...   \n",
       "1336  Woman Backed for Refusing to Care For Disabled...   \n",
       "\n",
       "                                                summary  \\\n",
       "48    \"We can make it so that after these 90 days th...   \n",
       "89    \"Ukraine is better off for having him and wors...   \n",
       "510   \"This whole thing has been about Dr. Oz and hi...   \n",
       "727   \"Kay is expected to produce rainfall totals of...   \n",
       "731   \"Grandma needs to be in the next family portra...   \n",
       "1336  \"It is not your responsibility to step in for ...   \n",
       "\n",
       "                                              full_text  \\\n",
       "48    Russia began its war of aggression in Ukraine ...   \n",
       "89    Joshua Alan Jones, a 24-year-old Memphis nativ...   \n",
       "510   John Fetterman, the Democratic candidate for P...   \n",
       "727   A tropical wave in the eastern Pacific Ocean i...   \n",
       "731   Internet commenters commended one mother's gen...   \n",
       "1336  A woman has been backed online after refusing ...   \n",
       "\n",
       "                                      extracted_summary  \\\n",
       "48    Zelensky has vowed that Ukraine will take back...   \n",
       "89    \"Ukraine is better off for having him and wors...   \n",
       "510   \"This whole thing has been about Dr. Oz and hi...   \n",
       "727   However, it'll likely stay at a Cat 1 or downg...   \n",
       "731   \"Newsweek reached out to u/blatantlyridiculous...   \n",
       "1336  [Not the a**hole].\" It is not your responsibil...   \n",
       "\n",
       "                                        pegasus_summary  extract_rouge_1  \\\n",
       "48    Ukraine's president has called this winter the...         0.784314   \n",
       "89    A Tennessee soldier who was killed while fight...         0.638298   \n",
       "510   A Pennsylvania US Senate candidate has agreed ...         0.738462   \n",
       "727   A tropical wave in the eastern Pacific Ocean i...         0.555556   \n",
       "731               All photographs subject to copyright.         0.689655   \n",
       "1336  A woman has been backed online after refusing ...         0.775510   \n",
       "\n",
       "      extract_rouge_2  extract_rouge_L  pegasus_rouge_1  pegasus_rouge_2  \\\n",
       "48           0.693878         0.705882         0.054054              0.0   \n",
       "89           0.622222         0.638298         0.125000              0.0   \n",
       "510          0.698413         0.738462         0.085106              0.0   \n",
       "727          0.514286         0.555556         0.093023              0.0   \n",
       "731          0.592593         0.620690         0.117647              0.0   \n",
       "1336         0.765957         0.775510         0.181818              0.0   \n",
       "\n",
       "      pegasus_rouge_L  \n",
       "48           0.054054  \n",
       "89           0.083333  \n",
       "510          0.085106  \n",
       "727          0.093023  \n",
       "731          0.117647  \n",
       "1336         0.136364  "
      ]
     },
     "execution_count": 10,
     "metadata": {},
     "output_type": "execute_result"
    }
   ],
   "source": [
    "good_extr_summ_df = df[(df['extract_rouge_1'] > 0.5) & (df['extract_rouge_2'] > 0.5) & (df['extract_rouge_L'] > 0.5)]\n",
    "good_extr_summ_df"
   ]
  },
  {
   "cell_type": "code",
   "execution_count": 11,
   "id": "58065297",
   "metadata": {
    "scrolled": true
   },
   "outputs": [
    {
     "data": {
      "text/html": [
       "<div>\n",
       "<style scoped>\n",
       "    .dataframe tbody tr th:only-of-type {\n",
       "        vertical-align: middle;\n",
       "    }\n",
       "\n",
       "    .dataframe tbody tr th {\n",
       "        vertical-align: top;\n",
       "    }\n",
       "\n",
       "    .dataframe thead th {\n",
       "        text-align: right;\n",
       "    }\n",
       "</style>\n",
       "<table border=\"1\" class=\"dataframe\">\n",
       "  <thead>\n",
       "    <tr style=\"text-align: right;\">\n",
       "      <th></th>\n",
       "      <th>category</th>\n",
       "      <th>url</th>\n",
       "      <th>title</th>\n",
       "      <th>summary</th>\n",
       "      <th>full_text</th>\n",
       "      <th>extracted_summary</th>\n",
       "      <th>pegasus_summary</th>\n",
       "      <th>extract_rouge_1</th>\n",
       "      <th>extract_rouge_2</th>\n",
       "      <th>extract_rouge_L</th>\n",
       "      <th>pegasus_rouge_1</th>\n",
       "      <th>pegasus_rouge_2</th>\n",
       "      <th>pegasus_rouge_L</th>\n",
       "    </tr>\n",
       "  </thead>\n",
       "  <tbody>\n",
       "    <tr>\n",
       "      <th>46</th>\n",
       "      <td>Opinion</td>\n",
       "      <td>/we-must-honor-lives-hispanics-latinos-lost-se...</td>\n",
       "      <td>We Must Honor the Lives of Hispanics and Latin...</td>\n",
       "      <td>As a Hispanic man reflecting on this sobering ...</td>\n",
       "      <td>Sept. 11, 2001, is a date forever seared into ...</td>\n",
       "      <td>And we remain committed to making this nation ...</td>\n",
       "      <td>As the 11th anniversary of the 9/11 attacks ap...</td>\n",
       "      <td>0.160000</td>\n",
       "      <td>0.000000</td>\n",
       "      <td>0.120000</td>\n",
       "      <td>0.653061</td>\n",
       "      <td>0.510638</td>\n",
       "      <td>0.653061</td>\n",
       "    </tr>\n",
       "    <tr>\n",
       "      <th>119</th>\n",
       "      <td>News</td>\n",
       "      <td>/dan-rather-donald-trump-toddler-chief-egocent...</td>\n",
       "      <td>Dan Rather Dubs Trump 'Toddler in Chief,' Call...</td>\n",
       "      <td>Veteran journalist Dan Rather said that Trump ...</td>\n",
       "      <td>Veteran broadcast journalist Dan Rather on Fri...</td>\n",
       "      <td>\"Newsweek reached out to Trump's office for co...</td>\n",
       "      <td>\"He has exploited a business and social struct...</td>\n",
       "      <td>0.125000</td>\n",
       "      <td>0.000000</td>\n",
       "      <td>0.041667</td>\n",
       "      <td>0.809524</td>\n",
       "      <td>0.800000</td>\n",
       "      <td>0.809524</td>\n",
       "    </tr>\n",
       "    <tr>\n",
       "      <th>373</th>\n",
       "      <td>News</td>\n",
       "      <td>/what-happens-if-queen-elizabeth-dies-london-b...</td>\n",
       "      <td>What Happens Now the Queen Has Died? Operation...</td>\n",
       "      <td>Operation London Bridge is the watertight plan...</td>\n",
       "      <td>With the death of Queen Elizabeth II at the ag...</td>\n",
       "      <td>\"Shortly after the announcement concerning the...</td>\n",
       "      <td>With the death of Queen Elizabeth II at the ag...</td>\n",
       "      <td>0.122449</td>\n",
       "      <td>0.013793</td>\n",
       "      <td>0.068027</td>\n",
       "      <td>0.703704</td>\n",
       "      <td>0.615385</td>\n",
       "      <td>0.592593</td>\n",
       "    </tr>\n",
       "    <tr>\n",
       "      <th>609</th>\n",
       "      <td>News</td>\n",
       "      <td>/republicans-fear-blown-all-campaign-cash-midt...</td>\n",
       "      <td>Republicans Fear They've Blown All Their Campa...</td>\n",
       "      <td>The National Republican Senatorial Committee h...</td>\n",
       "      <td>Republican senators are reportedly concerned t...</td>\n",
       "      <td>The GOP had been favored to win in the same an...</td>\n",
       "      <td>The National Republican Senatorial Committee (...</td>\n",
       "      <td>0.118519</td>\n",
       "      <td>0.000000</td>\n",
       "      <td>0.074074</td>\n",
       "      <td>0.920000</td>\n",
       "      <td>0.833333</td>\n",
       "      <td>0.920000</td>\n",
       "    </tr>\n",
       "    <tr>\n",
       "      <th>649</th>\n",
       "      <td>News</td>\n",
       "      <td>/republicans-fear-blown-all-campaign-cash-midt...</td>\n",
       "      <td>Republicans Fear They've Blown All Their Campa...</td>\n",
       "      <td>The National Republican Senatorial Committee h...</td>\n",
       "      <td>Republican senators are reportedly concerned t...</td>\n",
       "      <td>The GOP had been favored to win in the same an...</td>\n",
       "      <td>The National Republican Senatorial Committee (...</td>\n",
       "      <td>0.118519</td>\n",
       "      <td>0.000000</td>\n",
       "      <td>0.074074</td>\n",
       "      <td>0.920000</td>\n",
       "      <td>0.833333</td>\n",
       "      <td>0.920000</td>\n",
       "    </tr>\n",
       "    <tr>\n",
       "      <th>1034</th>\n",
       "      <td>News</td>\n",
       "      <td>/trump-repeats-praise-smart-putin-touts-xis-ir...</td>\n",
       "      <td>Trump Repeats Praise of 'Smart' Putin, Touts X...</td>\n",
       "      <td>\"I got to know a lot of the foreign leaders an...</td>\n",
       "      <td>Former President Donald Trump renewed praise f...</td>\n",
       "      <td>\"Newsweek has reached out to Trump's press off...</td>\n",
       "      <td>\"I got to know a lot of the foreign leaders an...</td>\n",
       "      <td>0.131148</td>\n",
       "      <td>0.000000</td>\n",
       "      <td>0.065574</td>\n",
       "      <td>0.830189</td>\n",
       "      <td>0.823529</td>\n",
       "      <td>0.830189</td>\n",
       "    </tr>\n",
       "    <tr>\n",
       "      <th>1354</th>\n",
       "      <td>News</td>\n",
       "      <td>/teen-fatally-shoots-stepfather-claims-he-was-...</td>\n",
       "      <td>Teen Fatally Shoots Stepfather, Claims He Was ...</td>\n",
       "      <td>A sheriff said he has \"no reason to believe\" t...</td>\n",
       "      <td>A sheriff in Ohio said there is \"no reason to ...</td>\n",
       "      <td>\"This is not only a case that is tragic, but a...</td>\n",
       "      <td>A sheriff in Ohio said there is \"no reason to ...</td>\n",
       "      <td>0.153846</td>\n",
       "      <td>0.000000</td>\n",
       "      <td>0.107692</td>\n",
       "      <td>0.709677</td>\n",
       "      <td>0.566667</td>\n",
       "      <td>0.709677</td>\n",
       "    </tr>\n",
       "    <tr>\n",
       "      <th>1449</th>\n",
       "      <td>News</td>\n",
       "      <td>/nba-coach-caron-butler-talks-release-novel-sh...</td>\n",
       "      <td>NBA Coach Caron Butler Talks About Release of ...</td>\n",
       "      <td>Caron Butler has co-authored the book—based on...</td>\n",
       "      <td>Being an exceptional athlete doesn't protect y...</td>\n",
       "      <td>There was only one Bill Russell.This story was...</td>\n",
       "      <td>Former NBA star Caron Butler has teamed up wit...</td>\n",
       "      <td>0.068966</td>\n",
       "      <td>0.000000</td>\n",
       "      <td>0.068966</td>\n",
       "      <td>0.686567</td>\n",
       "      <td>0.523077</td>\n",
       "      <td>0.626866</td>\n",
       "    </tr>\n",
       "  </tbody>\n",
       "</table>\n",
       "</div>"
      ],
      "text/plain": [
       "     category                                                url  \\\n",
       "46    Opinion  /we-must-honor-lives-hispanics-latinos-lost-se...   \n",
       "119      News  /dan-rather-donald-trump-toddler-chief-egocent...   \n",
       "373      News  /what-happens-if-queen-elizabeth-dies-london-b...   \n",
       "609      News  /republicans-fear-blown-all-campaign-cash-midt...   \n",
       "649      News  /republicans-fear-blown-all-campaign-cash-midt...   \n",
       "1034     News  /trump-repeats-praise-smart-putin-touts-xis-ir...   \n",
       "1354     News  /teen-fatally-shoots-stepfather-claims-he-was-...   \n",
       "1449     News  /nba-coach-caron-butler-talks-release-novel-sh...   \n",
       "\n",
       "                                                  title  \\\n",
       "46    We Must Honor the Lives of Hispanics and Latin...   \n",
       "119   Dan Rather Dubs Trump 'Toddler in Chief,' Call...   \n",
       "373   What Happens Now the Queen Has Died? Operation...   \n",
       "609   Republicans Fear They've Blown All Their Campa...   \n",
       "649   Republicans Fear They've Blown All Their Campa...   \n",
       "1034  Trump Repeats Praise of 'Smart' Putin, Touts X...   \n",
       "1354  Teen Fatally Shoots Stepfather, Claims He Was ...   \n",
       "1449  NBA Coach Caron Butler Talks About Release of ...   \n",
       "\n",
       "                                                summary  \\\n",
       "46    As a Hispanic man reflecting on this sobering ...   \n",
       "119   Veteran journalist Dan Rather said that Trump ...   \n",
       "373   Operation London Bridge is the watertight plan...   \n",
       "609   The National Republican Senatorial Committee h...   \n",
       "649   The National Republican Senatorial Committee h...   \n",
       "1034  \"I got to know a lot of the foreign leaders an...   \n",
       "1354  A sheriff said he has \"no reason to believe\" t...   \n",
       "1449  Caron Butler has co-authored the book—based on...   \n",
       "\n",
       "                                              full_text  \\\n",
       "46    Sept. 11, 2001, is a date forever seared into ...   \n",
       "119   Veteran broadcast journalist Dan Rather on Fri...   \n",
       "373   With the death of Queen Elizabeth II at the ag...   \n",
       "609   Republican senators are reportedly concerned t...   \n",
       "649   Republican senators are reportedly concerned t...   \n",
       "1034  Former President Donald Trump renewed praise f...   \n",
       "1354  A sheriff in Ohio said there is \"no reason to ...   \n",
       "1449  Being an exceptional athlete doesn't protect y...   \n",
       "\n",
       "                                      extracted_summary  \\\n",
       "46    And we remain committed to making this nation ...   \n",
       "119   \"Newsweek reached out to Trump's office for co...   \n",
       "373   \"Shortly after the announcement concerning the...   \n",
       "609   The GOP had been favored to win in the same an...   \n",
       "649   The GOP had been favored to win in the same an...   \n",
       "1034  \"Newsweek has reached out to Trump's press off...   \n",
       "1354  \"This is not only a case that is tragic, but a...   \n",
       "1449  There was only one Bill Russell.This story was...   \n",
       "\n",
       "                                        pegasus_summary  extract_rouge_1  \\\n",
       "46    As the 11th anniversary of the 9/11 attacks ap...         0.160000   \n",
       "119   \"He has exploited a business and social struct...         0.125000   \n",
       "373   With the death of Queen Elizabeth II at the ag...         0.122449   \n",
       "609   The National Republican Senatorial Committee (...         0.118519   \n",
       "649   The National Republican Senatorial Committee (...         0.118519   \n",
       "1034  \"I got to know a lot of the foreign leaders an...         0.131148   \n",
       "1354  A sheriff in Ohio said there is \"no reason to ...         0.153846   \n",
       "1449  Former NBA star Caron Butler has teamed up wit...         0.068966   \n",
       "\n",
       "      extract_rouge_2  extract_rouge_L  pegasus_rouge_1  pegasus_rouge_2  \\\n",
       "46           0.000000         0.120000         0.653061         0.510638   \n",
       "119          0.000000         0.041667         0.809524         0.800000   \n",
       "373          0.013793         0.068027         0.703704         0.615385   \n",
       "609          0.000000         0.074074         0.920000         0.833333   \n",
       "649          0.000000         0.074074         0.920000         0.833333   \n",
       "1034         0.000000         0.065574         0.830189         0.823529   \n",
       "1354         0.000000         0.107692         0.709677         0.566667   \n",
       "1449         0.000000         0.068966         0.686567         0.523077   \n",
       "\n",
       "      pegasus_rouge_L  \n",
       "46           0.653061  \n",
       "119          0.809524  \n",
       "373          0.592593  \n",
       "609          0.920000  \n",
       "649          0.920000  \n",
       "1034         0.830189  \n",
       "1354         0.709677  \n",
       "1449         0.626866  "
      ]
     },
     "execution_count": 11,
     "metadata": {},
     "output_type": "execute_result"
    }
   ],
   "source": [
    "good_pegasus_summ_df = df[(df['pegasus_rouge_1'] > 0.5) & (df['pegasus_rouge_2'] > 0.5) & (df['pegasus_rouge_L'] > 0.5)]\n",
    "good_pegasus_summ_df"
   ]
  },
  {
   "cell_type": "markdown",
   "id": "ca714ba5",
   "metadata": {},
   "source": [
    "### Rouge-1 scores analysis"
   ]
  },
  {
   "cell_type": "code",
   "execution_count": 12,
   "id": "f30873bc",
   "metadata": {},
   "outputs": [
    {
     "data": {
      "text/plain": [
       "0.15102513918266935"
      ]
     },
     "execution_count": 12,
     "metadata": {},
     "output_type": "execute_result"
    }
   ],
   "source": [
    "df['extract_rouge_1'].mean()"
   ]
  },
  {
   "cell_type": "code",
   "execution_count": 13,
   "id": "e6acd95e",
   "metadata": {},
   "outputs": [
    {
     "data": {
      "text/plain": [
       "0.17523021768543776"
      ]
     },
     "execution_count": 13,
     "metadata": {},
     "output_type": "execute_result"
    }
   ],
   "source": [
    "df['pegasus_rouge_1'].mean()"
   ]
  },
  {
   "cell_type": "code",
   "execution_count": 14,
   "id": "c5d731d6",
   "metadata": {},
   "outputs": [
    {
     "data": {
      "image/png": "[encoded data removed]",
      "text/plain": [
       "<Figure size 432x288 with 1 Axes>"
      ]
     },
     "metadata": {
      "needs_background": "light"
     },
     "output_type": "display_data"
    }
   ],
   "source": [
    "sns.histplot(data=df, x='extract_rouge_1', alpha=0.5, color='blue', label='Extracted summary rouge-1 score')\n",
    "sns.histplot(data=df, x='pegasus_rouge_1', alpha=0.5, color='green', label='Pegasus summary rouge-1 score')\n",
    "plt.xlabel('Rouge-1 Scores')\n",
    "plt.ylabel('Count Rouge-1')\n",
    "plt.legend()\n",
    "plt.title('Rouge-1 comparasion between extracted vs pegasus summaries')\n",
    "plt.show()"
   ]
  },
  {
   "cell_type": "code",
   "execution_count": 15,
   "id": "3a4154cb",
   "metadata": {},
   "outputs": [
    {
     "data": {
      "text/plain": [
       "0.006269179353558405"
      ]
     },
     "execution_count": 15,
     "metadata": {},
     "output_type": "execute_result"
    }
   ],
   "source": [
    "res = mannwhitneyu(df['extract_rouge_1'], df['pegasus_rouge_1'])\n",
    "res.pvalue"
   ]
  },
  {
   "cell_type": "markdown",
   "id": "6f1cd153",
   "metadata": {},
   "source": [
    "The pval is < 0.05, so we conclude that the two distributions are not the same."
   ]
  },
  {
   "cell_type": "markdown",
   "id": "cb4ce898",
   "metadata": {},
   "source": [
    "### Rouge-2 scores analysis"
   ]
  },
  {
   "cell_type": "code",
   "execution_count": 16,
   "id": "e1a5db90",
   "metadata": {},
   "outputs": [
    {
     "data": {
      "text/plain": [
       "0.027628699751135476"
      ]
     },
     "execution_count": 16,
     "metadata": {},
     "output_type": "execute_result"
    }
   ],
   "source": [
    "df['extract_rouge_2'].mean()"
   ]
  },
  {
   "cell_type": "code",
   "execution_count": 17,
   "id": "ac967560",
   "metadata": {},
   "outputs": [
    {
     "data": {
      "text/plain": [
       "0.045775996690459765"
      ]
     },
     "execution_count": 17,
     "metadata": {},
     "output_type": "execute_result"
    }
   ],
   "source": [
    "df['pegasus_rouge_2'].mean()"
   ]
  },
  {
   "cell_type": "code",
   "execution_count": 18,
   "id": "76669c7a",
   "metadata": {},
   "outputs": [
    {
     "data": {
      "image/png": "[encoded data removed]",
      "text/plain": [
       "<Figure size 432x288 with 1 Axes>"
      ]
     },
     "metadata": {
      "needs_background": "light"
     },
     "output_type": "display_data"
    }
   ],
   "source": [
    "sns.histplot(data=df, x='extract_rouge_2', alpha=0.5, color='blue', label='Extracted summary rouge-2 score')\n",
    "sns.histplot(data=df, x='pegasus_rouge_2', alpha=0.5, color='green', label='Pegasus summary rouge-2 score')\n",
    "plt.xlabel('Rouge-2 Scores')\n",
    "plt.ylabel('Count Rouge-2')\n",
    "plt.legend()\n",
    "plt.title('Rouge-2 comparasion between extracted vs pegasus summaries')\n",
    "plt.show()"
   ]
  },
  {
   "cell_type": "code",
   "execution_count": 19,
   "id": "502f9ab2",
   "metadata": {},
   "outputs": [
    {
     "data": {
      "text/plain": [
       "0.15657198292615862"
      ]
     },
     "execution_count": 19,
     "metadata": {},
     "output_type": "execute_result"
    }
   ],
   "source": [
    "res = mannwhitneyu(df['extract_rouge_2'], df['pegasus_rouge_2'])\n",
    "res.pvalue"
   ]
  },
  {
   "cell_type": "markdown",
   "id": "060862ee",
   "metadata": {},
   "source": [
    "The pval is > 0.05, so we conclude that the two distributions are quite similar. (Mostly because there are a lot of summaries with a score of 0)"
   ]
  },
  {
   "cell_type": "markdown",
   "id": "ad6c952f",
   "metadata": {},
   "source": [
    "### Rouge-2 scores analysis"
   ]
  },
  {
   "cell_type": "code",
   "execution_count": 20,
   "id": "68e6df78",
   "metadata": {},
   "outputs": [
    {
     "data": {
      "text/plain": [
       "0.10809504316969133"
      ]
     },
     "execution_count": 20,
     "metadata": {},
     "output_type": "execute_result"
    }
   ],
   "source": [
    "df['extract_rouge_L'].mean()"
   ]
  },
  {
   "cell_type": "code",
   "execution_count": 21,
   "id": "a402c5b0",
   "metadata": {},
   "outputs": [
    {
     "data": {
      "text/plain": [
       "0.13495642275570643"
      ]
     },
     "execution_count": 21,
     "metadata": {},
     "output_type": "execute_result"
    }
   ],
   "source": [
    "df['pegasus_rouge_L'].mean()"
   ]
  },
  {
   "cell_type": "code",
   "execution_count": 22,
   "id": "ff141178",
   "metadata": {},
   "outputs": [
    {
     "data": {
      "image/png": "[encoded data removed]",
      "text/plain": [
       "<Figure size 432x288 with 1 Axes>"
      ]
     },
     "metadata": {
      "needs_background": "light"
     },
     "output_type": "display_data"
    }
   ],
   "source": [
    "sns.histplot(data=df, x='extract_rouge_L', alpha=0.5, color='blue', label='Extracted summary rouge-L score')\n",
    "sns.histplot(data=df, x='pegasus_rouge_L', alpha=0.5, color='green', label='Pegasus summary rouge-L score')\n",
    "plt.xlabel('Rouge-L Scores')\n",
    "plt.ylabel('Count Rouge-L')\n",
    "plt.legend()\n",
    "plt.title('Rouge-L comparasion between extracted vs pegasus summaries')\n",
    "plt.show()"
   ]
  },
  {
   "cell_type": "code",
   "execution_count": 23,
   "id": "67fd94de",
   "metadata": {},
   "outputs": [
    {
     "data": {
      "text/plain": [
       "1.1621720700247125e-08"
      ]
     },
     "execution_count": 23,
     "metadata": {},
     "output_type": "execute_result"
    }
   ],
   "source": [
    "res = mannwhitneyu(df['extract_rouge_L'], df['pegasus_rouge_L'])\n",
    "res.pvalue"
   ]
  },
  {
   "cell_type": "markdown",
   "id": "60029a1a",
   "metadata": {},
   "source": [
    "The pval is < 0.05, so we conclude that the two distributions are not the same."
   ]
  }
 ],
 "metadata": {
  "kernelspec": {
   "display_name": "Python 3 (ipykernel)",
   "language": "python",
   "name": "python3"
  },
  "language_info": {
   "codemirror_mode": {
    "name": "ipython",
    "version": 3
   },
   "file_extension": ".py",
   "mimetype": "text/x-python",
   "name": "python",
   "nbconvert_exporter": "python",
   "pygments_lexer": "ipython3",
   "version": "3.9.12"
  }
 },
 "nbformat": 4,
 "nbformat_minor": 5
}
